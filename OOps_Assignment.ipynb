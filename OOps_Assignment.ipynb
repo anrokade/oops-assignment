{
  "nbformat": 4,
  "nbformat_minor": 0,
  "metadata": {
    "colab": {
      "provenance": []
    },
    "kernelspec": {
      "name": "python3",
      "display_name": "Python 3"
    },
    "language_info": {
      "name": "python"
    }
  },
  "cells": [
    {
      "cell_type": "markdown",
      "source": [
        "# OOPs Questions\n"
      ],
      "metadata": {
        "id": "ZPmk-bd5Bawk"
      }
    },
    {
      "cell_type": "markdown",
      "source": [
        "### 1.What is Object-Oriented Programming (OOP)"
      ],
      "metadata": {
        "id": "X391KQKWBvCk"
      }
    },
    {
      "cell_type": "markdown",
      "source": [
        "Object-Oriented Programming (OOP) is a programming paradigm based on the concept of \"objects,\" which can contain data (attributes) and code (methods). The primary goal of OOP is to organize software design around data, or objects, rather than functions and logic. It aims to increase the flexibility and maintainability of programs by promoting concepts like modularity, reusability, and extensibility. Key principles of OOP include Encapsulation, Inheritance, Polymorphism, and Abstraction."
      ],
      "metadata": {
        "id": "1njYiQH7Byaq"
      }
    },
    {
      "cell_type": "markdown",
      "source": [
        "### 2.What is a class in OOP"
      ],
      "metadata": {
        "id": "l8YICofIBy4y"
      }
    },
    {
      "cell_type": "markdown",
      "source": [
        "A class in OOP is a blueprint or a template for creating objects. It defines a set of attributes (data) and methods (functions) that all objects created from that class will possess. It acts as a logical construct that encapsulates data and behavior into a single unit. For example, a Car class might define attributes like color and make, and methods like start() and stop()."
      ],
      "metadata": {
        "id": "IHy8ruRIBzay"
      }
    },
    {
      "cell_type": "markdown",
      "source": [
        "### 3.What is an object in OOP"
      ],
      "metadata": {
        "id": "motjilh6Ccha"
      }
    },
    {
      "cell_type": "markdown",
      "source": [
        "An object in OOP is an instance of a class. It is a concrete entity created from a class blueprint, possessing the attributes and behaviors defined by its class. Each object has its own unique state (values for its attributes) but shares the same methods defined in its class. For example, if Car is a class, then my_car = Car(\"red\", \"Toyota\") creates an object my_car which is an instance of the Car class."
      ],
      "metadata": {
        "id": "QyuCt7gRCceq"
      }
    },
    {
      "cell_type": "markdown",
      "source": [
        "### 4.What is the difference between abstraction and encapsulation?"
      ],
      "metadata": {
        "id": "gzAgKl-iCccq"
      }
    },
    {
      "cell_type": "markdown",
      "source": [
        "- Abstraction: Abstraction is the process of hiding the complex implementation details and showing only the essential features of an object to the user. It focuses on \"what\" an object does rather than \"how\" it does it. For example, when you use a remote control to turn on a TV, you don't need to know the internal circuitry; you just interact with the abstract concept of \"turning on.\"\n",
        "\n",
        "- Encapsulation: Encapsulation is the bundling of data (attributes) and the methods that operate on the data into a single unit (a class). It also involves restricting direct access to some of an object's components, which means that the internal state of an object is hidden and can only be accessed or modified through the object's public methods. This protects the data from accidental corruption."
      ],
      "metadata": {
        "id": "h-zDR9b4CcYy"
      }
    },
    {
      "cell_type": "markdown",
      "source": [
        "### 5.What are dunder methods in Python?"
      ],
      "metadata": {
        "id": "xIMJLHj9CcWT"
      }
    },
    {
      "cell_type": "markdown",
      "source": [
        "Dunder methods, also known as magic methods or special methods, are predefined methods in Python that have double underscores __ at the beginning and end of their names (e.g., __init__, __str__, __add__). These methods are automatically invoked by Python in response to certain operations or events, allowing classes to implement special behaviors for built-in functions or operators (like +, -, len(), print()). They enable operator overloading, custom object representation, and other powerful features."
      ],
      "metadata": {
        "id": "wrHmUQqvCcTy"
      }
    },
    {
      "cell_type": "markdown",
      "source": [
        "### 6.Explain the concept of inheritance in OOP?"
      ],
      "metadata": {
        "id": "HWSbtzemCcI6"
      }
    },
    {
      "cell_type": "markdown",
      "source": [
        "Inheritance is a fundamental OOP concept that allows a new class (child or derived class) to inherit attributes and methods from an existing class (parent or base class). This promotes code reusability and establishes a \"is-a\" relationship between classes. The child class can extend or override the inherited functionalities. For example, a Dog class can inherit from an Animal class, gaining common animal behaviors while adding its own specific bark() method."
      ],
      "metadata": {
        "id": "cpa0nkzLCcGq"
      }
    },
    {
      "cell_type": "markdown",
      "source": [
        "### 7. What is polymorphism in OOP"
      ],
      "metadata": {
        "id": "jNarlGL1CcBy"
      }
    },
    {
      "cell_type": "markdown",
      "source": [
        "Polymorphism means \"many forms.\" In OOP, it refers to the ability of objects of different classes to respond to the same method call in their own unique ways. This is often achieved through method overriding (where a subclass provides a specific implementation for a method already defined in its superclass) or method overloading (though true method overloading as in some other languages is not directly supported in Python, it can be simulated with default arguments or variable arguments). Polymorphism allows for more flexible and extensible code, as you can write generic code that works with objects of various types."
      ],
      "metadata": {
        "id": "19-NzF9DCb_M"
      }
    },
    {
      "cell_type": "markdown",
      "source": [
        "### 8.How is encapsulation achieved in Python"
      ],
      "metadata": {
        "id": "d7jBZHuSCb7z"
      }
    },
    {
      "cell_type": "markdown",
      "source": [
        "In Python, encapsulation is primarily achieved through:\n",
        "- Convention: By convention, attributes intended to be private are prefixed with a single underscore (e.g., _private_attribute). This signals to other developers that the attribute should not be accessed directly from outside the class.\n",
        "\n",
        "- Name Mangling: For stronger encapsulation, attributes prefixed with double underscores (e.g., __private_attribute) undergo \"name mangling.\" Python internally renames these attributes to _ClassName__private_attribute, making them harder (though not impossible) to access directly from outside the class.\n",
        "\n",
        "- Getter and Setter Methods: Providing public methods (getters and setters) to control access to private attributes is a common practice. The @property decorator is often used to create \"Pythonic\" getters and setters.\n",
        "      "
      ],
      "metadata": {
        "id": "2CbhTQG_Cb1y"
      }
    },
    {
      "cell_type": "markdown",
      "source": [
        "### 9.What is a constructor in Python"
      ],
      "metadata": {
        "id": "Fuq1DqYhCbu0"
      }
    },
    {
      "cell_type": "markdown",
      "source": [
        "In Python, the constructor is a special method named __init__. It is automatically called when a new object (instance) of a class is created. Its primary purpose is to initialize the attributes of the newly created object. The self parameter in __init__ refers to the instance of the class itself."
      ],
      "metadata": {
        "id": "iQ9JEeGHCblB"
      }
    },
    {
      "cell_type": "markdown",
      "source": [
        "### 10.What are class and static methods in Python?"
      ],
      "metadata": {
        "id": "5eu5VtCXCbZa"
      }
    },
    {
      "cell_type": "markdown",
      "source": [
        "- Class Method (@classmethod): A class method operates on the class itself rather than on an instance of the class. It takes cls (conventionally) as its first argument, which refers to the class object. Class methods are often used for factory methods (to create instances of the class in different ways) or to access/modify class-level attributes.\n",
        "\n",
        "- Static Method (@staticmethod): A static method is a method that belongs to the class but does not operate on either the class or its instance. It doesn't take self or cls as its first argument. Static methods are essentially regular functions that are logically grouped within a class because they relate to the class's functionality but don't require access to its state."
      ],
      "metadata": {
        "id": "QTPlkxiwCbJs"
      }
    },
    {
      "cell_type": "markdown",
      "source": [
        "### 11.What is method overloading in Python?"
      ],
      "metadata": {
        "id": "fHoeCX6GBzzC"
      }
    },
    {
      "cell_type": "markdown",
      "source": [
        "Method overloading refers to defining multiple methods in the same class with the same name but different parameters (number or type). Python does not support method overloading in the traditional sense (like Java or C++). If you define multiple methods with the same name, the last one defined will override the previous ones. However, you can achieve similar functionality using:\n",
        "\n",
        "    • Default arguments: Provide default values for parameters.\n",
        "    • Variable-length arguments (*args, **kwargs): Accept an arbitrary number of arguments."
      ],
      "metadata": {
        "id": "bzWcWPI1FCH6"
      }
    },
    {
      "cell_type": "markdown",
      "source": [
        "### 12.What is method overriding in OOP?"
      ],
      "metadata": {
        "id": "TEhMw8yWFCCZ"
      }
    },
    {
      "cell_type": "markdown",
      "source": [
        "Method overriding occurs when a subclass provides its own specific implementation for a method that is already defined in its superclass. The method in the subclass has the same name, same parameters (signature), and same return type (or a compatible one) as the method in the superclass. This allows subclasses to provide specialized behavior while adhering to the interface defined by the parent class, a core concept in polymorphism."
      ],
      "metadata": {
        "id": "dbO6H8SQFB66"
      }
    },
    {
      "cell_type": "markdown",
      "source": [
        "### 13.What is a property decorator in Python ?"
      ],
      "metadata": {
        "id": "-jpmxYipFBzi"
      }
    },
    {
      "cell_type": "markdown",
      "source": [
        "The @property decorator in Python is a built-in decorator that provides a \"Pythonic\" way to define getter, setter, and deleter methods for class attributes. It allows you to access methods as if they were attributes, making the code cleaner and more readable. It's commonly used to add validation or logic when getting or setting attribute values without changing the way the attribute is accessed from outside the class.\n"
      ],
      "metadata": {
        "id": "hifqb5OaFv9l"
      }
    },
    {
      "cell_type": "markdown",
      "source": [
        "### 14.Why is polymorphism important in OOP?"
      ],
      "metadata": {
        "id": "6V8LgNpXFv69"
      }
    },
    {
      "cell_type": "markdown",
      "source": [
        "Polymorphism is important in OOP because it:\n",
        "\n",
        "- Increases flexibility: Allows you to write generic code that can work with objects of different types, as long as they share a common interface.\n",
        "\n",
        "- Promotes extensibility: New classes can be added without modifying existing code, as long as they adhere to the polymorphic interface.\n",
        "\n",
        "- Improves code readability and maintainability: Reduces the need for if-elif-else statements or switch cases based on object types, leading to cleaner and more organized code.\n",
        "\n",
        "- Facilitates code reuse: Common operations can be defined in a base class and specialized in subclasses."
      ],
      "metadata": {
        "id": "4wo1HnriFv4l"
      }
    },
    {
      "cell_type": "markdown",
      "source": [
        "### 15.What is an abstract class in Python?"
      ],
      "metadata": {
        "id": "oEBSJ6BsFv2V"
      }
    },
    {
      "cell_type": "markdown",
      "source": [
        "An abstract class is a class that cannot be instantiated directly. It is designed to be a blueprint for other classes and often contains one or more abstract methods. An abstract method is a method that has a declaration but no implementation. Subclasses derived from an abstract class must implement all its abstract methods; otherwise, they also become abstract. Python's abc (Abstract Base Classes) module is used to define abstract classes and methods."
      ],
      "metadata": {
        "id": "qDuvDwpOGRd_"
      }
    },
    {
      "cell_type": "markdown",
      "source": [
        "### 16. What are the advantages of OOP ?"
      ],
      "metadata": {
        "id": "nj5Gup13GRbg"
      }
    },
    {
      "cell_type": "markdown",
      "source": [
        "The advantages of OOP include:\n",
        "\n",
        "    • Modularity: Objects are self-contained units, making it easier to manage and understand complex systems.\n",
        "\n",
        "    • Reusability: Inheritance allows code to be reused across different parts of a program or in new projects.\n",
        "\n",
        "    • Maintainability: Encapsulation helps in isolating changes, making it easier to modify and debug code.\n",
        "\n",
        "    • Extensibility: New features and classes can be added without significantly altering existing code.\n",
        "\n",
        "    • Data Security: Encapsulation protects data from unintended external access.\n",
        "    \n",
        "    • Improved Design: Promotes a clear, logical, and hierarchical structure for programs."
      ],
      "metadata": {
        "id": "Kek9247wGRY4"
      }
    },
    {
      "cell_type": "markdown",
      "source": [
        "### 17.What is the difference between a class variable and an instance variable?"
      ],
      "metadata": {
        "id": "YU2UMV_TFvxd"
      }
    },
    {
      "cell_type": "markdown",
      "source": [
        "- Class Variable: A class variable is shared by all instances of a class. It is defined directly within the class body, outside of any methods. Changes to a class variable affect all instances.\n",
        "\n",
        "- Instance Variable: An instance variable is unique to each instance (object) of a class. It is defined inside a method (usually __init__) using self.variable_name. Each object has its own copy of instance variables, and changes to one object's instance variable do not affect others."
      ],
      "metadata": {
        "id": "RSJ6lL4UGte1"
      }
    },
    {
      "cell_type": "markdown",
      "source": [
        "### 18. What is multiple inheritance in Python?"
      ],
      "metadata": {
        "id": "zNfMWqKhGtYN"
      }
    },
    {
      "cell_type": "markdown",
      "source": [
        "Multiple inheritance is a feature in OOP where a class can inherit from more than one parent class. This means a child class can acquire attributes and methods from multiple independent base classes. While powerful, it can lead to complexities like the \"diamond problem\" (where a method is inherited from two different paths, and it's unclear which one to use). Python supports multiple inheritance, and the Method Resolution Order (MRO) determines the order in which base classes are searched for methods."
      ],
      "metadata": {
        "id": "j3neuXkzGtUK"
      }
    },
    {
      "cell_type": "markdown",
      "source": [
        "### 19. Explain the purpose of ‘’__str__’ and ‘__repr__’ ‘ methods in Python"
      ],
      "metadata": {
        "id": "Cs39kqVPGtRb"
      }
    },
    {
      "cell_type": "markdown",
      "source": [
        "-  __str__ (informal string representation): This method is called by the str() built-in function and by print() to compute the \"informal\" or \"nicely printable\" string representation of an object. It's intended for end-users and should be readable. If __str__ is not defined, __repr__ is used as a fallback.\n",
        "\n",
        "-  __repr__ (official string representation): This method is called by the repr() built-in function and by the interactive interpreter to compute the \"official\" string representation of an object. It's primarily intended for developers and should be unambiguous and ideally allow for recreation of the object (e.g., ClassName(arg1, arg2)). If __repr__ is not defined, a default representation is used."
      ],
      "metadata": {
        "id": "KJtSl93mHChA"
      }
    },
    {
      "cell_type": "markdown",
      "source": [
        "### 20.What is the significance of the ‘super()’ function in Python?"
      ],
      "metadata": {
        "id": "HMC0ZnpmHCeg"
      }
    },
    {
      "cell_type": "markdown",
      "source": [
        "The super() function in Python is used to call a method from the parent or ancestor class. It's particularly useful in inheritance hierarchies to:\n",
        "\n",
        "- Call parent constructor: super().__init__(...) ensures that the parent class's __init__ method is called, initializing attributes defined in the parent.\n",
        "\n",
        "- Call overridden methods: Allows a child class to extend the functionality of an overridden method by calling the parent's version of the method and then adding its own logic.\n",
        "\n",
        "super() handles the Method Resolution Order (MRO) automatically, ensuring the correct parent method is called in complex inheritance scenarios."
      ],
      "metadata": {
        "id": "izDUc36hHCcI"
      }
    },
    {
      "cell_type": "markdown",
      "source": [
        "### 21.What is the significance of the __del__ method in Python?"
      ],
      "metadata": {
        "id": "eFfKpIgpHCZw"
      }
    },
    {
      "cell_type": "markdown",
      "source": [
        "The __del__ method, also known as the destructor, is a special method in Python that is called when an object is about to be garbage-collected (i.e., when its reference count drops to zero and it's no longer reachable). Its primary significance is for performing cleanup operations, such as closing file handles, releasing network connections, or freeing up other external resources that the object might be holding. However, its execution is not guaranteed, and its use is generally discouraged in favor of context managers (with statements) for resource management."
      ],
      "metadata": {
        "id": "Eh7-VsKfHzkR"
      }
    },
    {
      "cell_type": "markdown",
      "source": [
        "### 22. What is the difference between @staticmethod and @classmethod in Python?"
      ],
      "metadata": {
        "id": "OZ1A_w93HziC"
      }
    },
    {
      "cell_type": "markdown",
      "source": [
        "    • @staticmethod:\n",
        "        ◦ Does not receive the instance (self) or the class (cls) as its first argument.\n",
        "        ◦ Behaves like a regular function but is logically grouped within the class.\n",
        "        ◦ Cannot access or modify instance-specific data or class-specific data directly.\n",
        "        ◦ Used for utility functions that don't depend on the state of the object or the class.\n",
        "        \n",
        "    • @classmethod:\n",
        "        ◦ Receives the class itself (cls) as its first argument.\n",
        "        ◦ Can access and modify class-level attributes.\n",
        "        ◦ Can be used to create factory methods that return instances of the class.\n",
        "        ◦ Aware of the class it belongs to, allowing it to interact with class-level properties or create new instances of the class or its subclasses."
      ],
      "metadata": {
        "id": "CAuUiOe7Hzfr"
      }
    },
    {
      "cell_type": "markdown",
      "source": [
        "### 23. How does polymorphism work in Python with inheritance?"
      ],
      "metadata": {
        "id": "4cEXp15QHzdL"
      }
    },
    {
      "cell_type": "markdown",
      "source": [
        "Polymorphism in Python, especially with inheritance, primarily works through method overriding. When a method is called on an object, Python's dynamic typing allows the appropriate method implementation to be selected at runtime based on the actual type of the object, not its declared type (if any).\n",
        "For example, if you have a base class Animal with a speak() method, and derived classes Dog and Cat that override speak(), you can have a list of Animal objects (which might contain Dog and Cat instances). When you iterate through the list and call speak() on each object, the correct speak() method (either Dog's, Cat's, or Animal's) will be executed based on the object's actual type. This allows for generic code that operates on a collection of diverse objects."
      ],
      "metadata": {
        "id": "RUNxyUWxILrI"
      }
    },
    {
      "cell_type": "markdown",
      "source": [
        "### 24. What is method chaining in Python OOP?"
      ],
      "metadata": {
        "id": "FWWS4Do6ILhY"
      }
    },
    {
      "cell_type": "markdown",
      "source": [
        "Method chaining (also known as cascading) is a programming technique where multiple method calls are made on the same object in a single statement. This is achieved by having each method return the object itself (self) after performing its operation. This allows for a more concise and readable syntax, especially when performing a sequence of operations on an object."
      ],
      "metadata": {
        "id": "kaFrdZfvIb_4"
      }
    },
    {
      "cell_type": "markdown",
      "source": [
        "### 25. What is the purpose of the __call__ method in Python?"
      ],
      "metadata": {
        "id": "vR0uJZC4Ib53"
      }
    },
    {
      "cell_type": "markdown",
      "source": [
        "The __call__ method is a special method in Python that allows an instance of a class to be called as if it were a function. If a class defines __call__, then object_instance(...) will invoke the __call__ method of that instance. This makes objects \"callable\" and can be useful for creating function-like objects, closures, or objects that represent a single, primary action."
      ],
      "metadata": {
        "id": "19uz5D1QILew"
      }
    },
    {
      "cell_type": "markdown",
      "source": [
        "# Practical Questions"
      ],
      "metadata": {
        "id": "RddrLXHiIzM9"
      }
    },
    {
      "cell_type": "code",
      "source": [
        "# 1. Create a parent class Animal with a method speak() that prints a generic message. Create a child class Dog that overrides the speak() method to print \"Bark!\"\n",
        "\n",
        "# Define the parent class\n",
        "class Animal:\n",
        "    def speak(self):\n",
        "        print(\"The animal makes a sound.\")\n",
        "\n",
        "# Define the child class\n",
        "class Dog(Animal):\n",
        "    def speak(self):\n",
        "        print(\"Bark!\")\n",
        "\n",
        "# Example usage\n",
        "a = Animal()\n",
        "a.speak()  # Output: The animal makes a sound.\n",
        "\n",
        "d = Dog()\n",
        "d.speak()  # Output: Bark!\n"
      ],
      "metadata": {
        "id": "viUiimNcIrnk",
        "colab": {
          "base_uri": "https://localhost:8080/"
        },
        "outputId": "bf3c799a-575e-485f-ed3d-0e234546afcb"
      },
      "execution_count": 2,
      "outputs": [
        {
          "output_type": "stream",
          "name": "stdout",
          "text": [
            "The animal makes a sound.\n",
            "Bark!\n"
          ]
        }
      ]
    },
    {
      "cell_type": "code",
      "source": [
        "# 2. Write a program to create an abstract class Shape with a method area(). Derive classes Circle and Rectangle from it and implement the area() method in both.\n",
        "\n",
        "from abc import ABC, abstractmethod\n",
        "import math\n",
        "\n",
        "# Abstract class Shape\n",
        "class Shape(ABC):\n",
        "    @abstractmethod\n",
        "    def area(self):\n",
        "        pass\n",
        "\n",
        "# Circle class inheriting from Shape\n",
        "class Circle(Shape):\n",
        "    def __init__(self, radius):\n",
        "        self.radius = radius\n",
        "\n",
        "    def area(self):\n",
        "        return math.pi * self.radius ** 2\n",
        "\n",
        "# Rectangle class inheriting from Shape\n",
        "class Rectangle(Shape):\n",
        "    def __init__(self, width, height):\n",
        "        self.width = width\n",
        "        self.height = height\n",
        "\n",
        "    def area(self):\n",
        "        return self.width * self.height\n",
        "\n",
        "# Main program\n",
        "if __name__ == \"__main__\":\n",
        "    circle = Circle(5)\n",
        "    rectangle = Rectangle(4, 6)\n",
        "\n",
        "    print(f\"Area of Circle: {circle.area():.2f}\")\n",
        "    print(f\"Area of Rectangle: {rectangle.area():.2f}\")"
      ],
      "metadata": {
        "colab": {
          "base_uri": "https://localhost:8080/"
        },
        "id": "O7GL3sAI1gF4",
        "outputId": "ac60fd27-dce6-47a6-f23f-a61e76dadda8"
      },
      "execution_count": 1,
      "outputs": [
        {
          "output_type": "stream",
          "name": "stdout",
          "text": [
            "Area of Circle: 78.54\n",
            "Area of Rectangle: 24.00\n"
          ]
        }
      ]
    },
    {
      "cell_type": "code",
      "source": [
        "# 3. Implement a multi-level inheritance scenario where a class Vehicle has an attribute type. Derive a class Car and further derive a class ElectricCar that adds a battery attribute\n",
        "\n",
        "# Base class\n",
        "class Vehicle:\n",
        "    def __init__(self, vehicle_type):\n",
        "        self.type = vehicle_type\n",
        "\n",
        "    def display_type(self):\n",
        "        print(f\"Vehicle Type: {self.type}\")\n",
        "\n",
        "# Derived class from Vehicle\n",
        "class Car(Vehicle):\n",
        "    def __init__(self, vehicle_type, brand):\n",
        "        super().__init__(vehicle_type)\n",
        "        self.brand = brand\n",
        "\n",
        "    def display_brand(self):\n",
        "        print(f\"Car Brand: {self.brand}\")\n",
        "\n",
        "# Further derived class from Car\n",
        "class ElectricCar(Car):\n",
        "    def __init__(self, vehicle_type, brand, battery_capacity):\n",
        "        super().__init__(vehicle_type, brand)\n",
        "        self.battery = battery_capacity\n",
        "\n",
        "    def display_battery(self):\n",
        "        print(f\"Battery Capacity: {self.battery} kWh\")\n",
        "\n",
        "# Main program\n",
        "if __name__ == \"__main__\":\n",
        "    my_electric_car = ElectricCar(\"Four Wheeler\", \"Tesla\", 75)\n",
        "\n",
        "    my_electric_car.display_type()\n",
        "    my_electric_car.display_brand()\n",
        "    my_electric_car.display_battery()\n"
      ],
      "metadata": {
        "colab": {
          "base_uri": "https://localhost:8080/"
        },
        "id": "tjChaBHa1gKQ",
        "outputId": "f63a15fb-f3f8-493f-eda9-987db1bdb4a9"
      },
      "execution_count": 2,
      "outputs": [
        {
          "output_type": "stream",
          "name": "stdout",
          "text": [
            "Vehicle Type: Four Wheeler\n",
            "Car Brand: Tesla\n",
            "Battery Capacity: 75 kWh\n"
          ]
        }
      ]
    },
    {
      "cell_type": "code",
      "source": [
        "# 4.  Demonstrate polymorphism by creating a base class Bird with a method fly(). Create two derived classes Sparrow and Penguin that override the fly() method.\n",
        "\n",
        "# Base class\n",
        "class Bird:\n",
        "    def fly(self):\n",
        "        print(\"Some bird is flying.\")\n",
        "\n",
        "# Derived class Sparrow\n",
        "class Sparrow(Bird):\n",
        "    def fly(self):\n",
        "        print(\"Sparrow flies high in the sky.\")\n",
        "\n",
        "# Derived class Penguin\n",
        "class Penguin(Bird):\n",
        "    def fly(self):\n",
        "        print(\"Penguins cannot fly, they swim.\")\n",
        "\n",
        "# Function to demonstrate polymorphism\n",
        "def bird_flight(bird: Bird):\n",
        "    bird.fly()\n",
        "\n",
        "# Main program\n",
        "if __name__ == \"__main__\":\n",
        "    sparrow = Sparrow()\n",
        "    penguin = Penguin()\n",
        "\n",
        "    # Polymorphic behavior\n",
        "    bird_flight(sparrow)\n",
        "    bird_flight(penguin)\n"
      ],
      "metadata": {
        "colab": {
          "base_uri": "https://localhost:8080/"
        },
        "id": "vw6DkTxS1gNT",
        "outputId": "ebb28a9e-bab3-4379-ac71-0b409718217f"
      },
      "execution_count": 4,
      "outputs": [
        {
          "output_type": "stream",
          "name": "stdout",
          "text": [
            "Sparrow flies high in the sky.\n",
            "Penguins cannot fly, they swim.\n"
          ]
        }
      ]
    },
    {
      "cell_type": "code",
      "source": [
        "# 5.  Write a program to demonstrate encapsulation by creating a class BankAccount with private attributes balance and methods to deposit, withdraw, and check balance.\n",
        "\n",
        "class BankAccount:\n",
        "    def __init__(self, initial_balance=0):\n",
        "        self.__balance = initial_balance  # Private attribute\n",
        "\n",
        "    def deposit(self, amount):\n",
        "        if amount > 0:\n",
        "            self.__balance += amount\n",
        "            print(f\"Deposited: ${amount}\")\n",
        "        else:\n",
        "            print(\"Deposit amount must be positive.\")\n",
        "\n",
        "    def withdraw(self, amount):\n",
        "        if 0 < amount <= self.__balance:\n",
        "            self.__balance -= amount\n",
        "            print(f\"Withdrew: ${amount}\")\n",
        "        else:\n",
        "            print(\"Invalid withdrawal amount or insufficient balance.\")\n",
        "\n",
        "    def get_balance(self):\n",
        "        return self.__balance\n",
        "\n",
        "# Main program\n",
        "if __name__ == \"__main__\":\n",
        "    account = BankAccount(100)  # Create account with initial balance\n",
        "\n",
        "    account.deposit(50)         # Add money\n",
        "    account.withdraw(30)        # Withdraw money\n",
        "    print(f\"Current Balance: ${account.get_balance()}\")\n",
        "\n",
        "    # Proper way to access the balance via method (no direct access to __balance)\n"
      ],
      "metadata": {
        "colab": {
          "base_uri": "https://localhost:8080/"
        },
        "id": "evo-Z58a1gQP",
        "outputId": "567bffa6-89ce-4546-bd7b-2334debebdd5"
      },
      "execution_count": 13,
      "outputs": [
        {
          "output_type": "stream",
          "name": "stdout",
          "text": [
            "Deposited: $50\n",
            "Withdrew: $30\n",
            "Current Balance: $120\n"
          ]
        }
      ]
    },
    {
      "cell_type": "code",
      "source": [
        "# 6. Demonstrate runtime polymorphism using a method play() in a base class Instrument. Derive classes Guitar and Piano that implement their own version of play().\n",
        "\n",
        "# Base class\n",
        "class Instrument:\n",
        "    def play(self):\n",
        "        print(\"The instrument is being played.\")\n",
        "\n",
        "# Derived class: Guitar\n",
        "class Guitar(Instrument):\n",
        "    def play(self):\n",
        "        print(\"Strumming the guitar strings.\")\n",
        "\n",
        "# Derived class: Piano\n",
        "class Piano(Instrument):\n",
        "    def play(self):\n",
        "        print(\"Pressing the piano keys.\")\n",
        "\n",
        "# Function that demonstrates polymorphism\n",
        "def perform_play(instrument: Instrument):\n",
        "    instrument.play()\n",
        "\n",
        "# Main program\n",
        "if __name__ == \"__main__\":\n",
        "    guitar = Guitar()\n",
        "    piano = Piano()\n",
        "\n",
        "    perform_play(guitar)\n",
        "    perform_play(piano)\n"
      ],
      "metadata": {
        "colab": {
          "base_uri": "https://localhost:8080/"
        },
        "id": "IpZO-XDK1gTO",
        "outputId": "15c92aa3-b685-4b3d-b118-9daf3a5abb30"
      },
      "execution_count": 12,
      "outputs": [
        {
          "output_type": "stream",
          "name": "stdout",
          "text": [
            "Strumming the guitar strings.\n",
            "Pressing the piano keys.\n"
          ]
        }
      ]
    },
    {
      "cell_type": "code",
      "source": [
        "# 7.  Create a class MathOperations with a class method add_numbers() to add two numbers and a static method subtract_numbers() to subtract two numbers.\n",
        "\n",
        "class MathOperations:\n",
        "    @classmethod\n",
        "    def add_numbers(cls, a, b):\n",
        "        return a + b\n",
        "\n",
        "    @staticmethod\n",
        "    def subtract_numbers(a, b):\n",
        "        return a - b\n",
        "\n",
        "# Main program\n",
        "if __name__ == \"__main__\":\n",
        "    sum_result = MathOperations.add_numbers(10, 5)\n",
        "    diff_result = MathOperations.subtract_numbers(10, 5)\n",
        "\n",
        "    print(f\"Sum: {sum_result}\")\n",
        "    print(f\"Difference: {diff_result}\")"
      ],
      "metadata": {
        "colab": {
          "base_uri": "https://localhost:8080/"
        },
        "id": "28ehTHKO1gV2",
        "outputId": "9af73ff2-e8b8-4c94-a85b-fdaffd72f1aa"
      },
      "execution_count": 14,
      "outputs": [
        {
          "output_type": "stream",
          "name": "stdout",
          "text": [
            "Sum: 15\n",
            "Difference: 5\n"
          ]
        }
      ]
    },
    {
      "cell_type": "code",
      "source": [
        "# 8. Implement a class Person with a class method to count the total number of persons created\n",
        "\n",
        "class Person:\n",
        "    count = 0  # Class variable to track the number of persons\n",
        "\n",
        "    def __init__(self, name):\n",
        "        self.name = name\n",
        "        Person.count += 1\n",
        "\n",
        "    @classmethod\n",
        "    def total_persons(cls):\n",
        "        return cls.count\n",
        "\n",
        "# Main program\n",
        "if __name__ == \"__main__\":\n",
        "    p1 = Person(\"Alice\")\n",
        "    p2 = Person(\"Bob\")\n",
        "    p3 = Person(\"Charlie\")\n",
        "\n",
        "    print(f\"Total persons created: {Person.total_persons()}\")"
      ],
      "metadata": {
        "colab": {
          "base_uri": "https://localhost:8080/"
        },
        "id": "dzXR6K0b1gYw",
        "outputId": "ae63ca88-2336-4dd4-dedf-3203e8ae5819"
      },
      "execution_count": 15,
      "outputs": [
        {
          "output_type": "stream",
          "name": "stdout",
          "text": [
            "Total persons created: 3\n"
          ]
        }
      ]
    },
    {
      "cell_type": "code",
      "source": [
        "# 9. . Write a class Fraction with attributes numerator and denominator. Override the str method to display the fraction as \"numerator/denominator\".\n",
        "\n",
        "class Fraction:\n",
        "    def __init__(self, numerator, denominator):\n",
        "        self.numerator = numerator\n",
        "        self.denominator = denominator\n",
        "\n",
        "    def __str__(self):\n",
        "        return f\"{self.numerator}/{self.denominator}\"\n",
        "\n",
        "# Main program\n",
        "if __name__ == \"__main__\":\n",
        "    f1 = Fraction(3, 4)\n",
        "    f2 = Fraction(5, 8)\n",
        "\n",
        "    print(f\"Fraction 1: {f1}\")\n",
        "    print(f\"Fraction 2: {f2}\")"
      ],
      "metadata": {
        "colab": {
          "base_uri": "https://localhost:8080/"
        },
        "id": "Czdi9pn08Bad",
        "outputId": "572a1cf1-5dbf-4b23-c507-c81e2ff8bc65"
      },
      "execution_count": 16,
      "outputs": [
        {
          "output_type": "stream",
          "name": "stdout",
          "text": [
            "Fraction 1: 3/4\n",
            "Fraction 2: 5/8\n"
          ]
        }
      ]
    },
    {
      "cell_type": "code",
      "source": [
        "# 10.  Demonstrate operator overloading by creating a class Vector and overriding the add method to add two vectors.\n",
        "\n",
        "class Vector:\n",
        "    def __init__(self, x, y):\n",
        "        self.x = x\n",
        "        self.y = y\n",
        "\n",
        "    def __add__(self, other):\n",
        "        if isinstance(other, Vector):\n",
        "            return Vector(self.x + other.x, self.y + other.y)\n",
        "        return NotImplemented\n",
        "\n",
        "    def __str__(self):\n",
        "        return f\"Vector({self.x}, {self.y})\"\n",
        "\n",
        "# Main program\n",
        "if __name__ == \"__main__\":\n",
        "    v1 = Vector(2, 3)\n",
        "    v2 = Vector(4, 5)\n",
        "\n",
        "    v3 = v1 + v2\n",
        "    print(v3)  # Output: Vector(6, 8)\n"
      ],
      "metadata": {
        "colab": {
          "base_uri": "https://localhost:8080/"
        },
        "id": "K0K5DSOF8V5h",
        "outputId": "a22a862c-e8ff-4e79-a089-629a73278070"
      },
      "execution_count": 17,
      "outputs": [
        {
          "output_type": "stream",
          "name": "stdout",
          "text": [
            "Vector(6, 8)\n"
          ]
        }
      ]
    },
    {
      "cell_type": "code",
      "source": [
        "# 11.  Create a class Person with attributes name and age. Add a method greet() that prints \"Hello, my name is {name} and I am {age} years old.\"\n",
        "\n",
        "class Person:\n",
        "    def __init__(self, name, age):\n",
        "        self.name = name\n",
        "        self.age = age\n",
        "\n",
        "    def greet(self):\n",
        "        print(f\"Hello, my name is {self.name} and I am {self.age} years old.\")\n",
        "\n",
        "# Example usage\n",
        "if __name__ == \"__main__\":\n",
        "    person = Person(\"Abhijeet\", 30)\n",
        "    person.greet()\n"
      ],
      "metadata": {
        "colab": {
          "base_uri": "https://localhost:8080/"
        },
        "id": "ihSwkrB08pby",
        "outputId": "facbf669-dac4-43ab-8a53-c8dddace40f2"
      },
      "execution_count": 18,
      "outputs": [
        {
          "output_type": "stream",
          "name": "stdout",
          "text": [
            "Hello, my name is Abhijeet and I am 30 years old.\n"
          ]
        }
      ]
    },
    {
      "cell_type": "code",
      "source": [
        "# 12. Implement a class Student with attributes name and grades. Create a method average_grade() to compute the average of the grades.\n",
        "\n",
        "class Student:\n",
        "    def __init__(self, name, grades):\n",
        "        self.name = name\n",
        "        self.grades = grades  # List of grades\n",
        "\n",
        "    def average_grade(self):\n",
        "        if not self.grades:\n",
        "            return 0  # Avoid division by zero if no grades\n",
        "        return sum(self.grades) / len(self.grades)\n",
        "\n",
        "# Example usage\n",
        "if __name__ == \"__main__\":\n",
        "    student = Student(\"Abhijeet\", [85, 92, 78, 90])\n",
        "    print(f\"{student.name}'s average grade: {student.average_grade():.2f}\")"
      ],
      "metadata": {
        "colab": {
          "base_uri": "https://localhost:8080/"
        },
        "id": "MWfS0La5856a",
        "outputId": "c4b60c68-781c-4b08-8bfd-eed2c1ec9c76"
      },
      "execution_count": 20,
      "outputs": [
        {
          "output_type": "stream",
          "name": "stdout",
          "text": [
            "Abhijeet's average grade: 86.25\n"
          ]
        }
      ]
    },
    {
      "cell_type": "code",
      "source": [
        "# 13.  Create a class Rectangle with methods set_dimensions() to set the dimensions and area() to calculate the area\n",
        "\n",
        "class Rectangle:\n",
        "    def __init__(self):\n",
        "        self.width = 0\n",
        "        self.height = 0\n",
        "\n",
        "    def set_dimensions(self, width, height):\n",
        "        self.width = width\n",
        "        self.height = height\n",
        "\n",
        "    def area(self):\n",
        "        return self.width * self.height\n",
        "\n",
        "# Example usage\n",
        "if __name__ == \"__main__\":\n",
        "    rect = Rectangle()\n",
        "    rect.set_dimensions(5, 10)\n",
        "    print(f\"Area of rectangle: {rect.area()}\")\n"
      ],
      "metadata": {
        "colab": {
          "base_uri": "https://localhost:8080/"
        },
        "id": "b8eOjDh79Har",
        "outputId": "e8ee954b-409b-4f63-df1e-f77782a112da"
      },
      "execution_count": 21,
      "outputs": [
        {
          "output_type": "stream",
          "name": "stdout",
          "text": [
            "Area of rectangle: 50\n"
          ]
        }
      ]
    },
    {
      "cell_type": "code",
      "source": [
        "# 14.  Create a class Employee with a method calculate_salary() that computes the salary based on hours worked and hourly rate. Create a derived class Manager that adds a bonus to the salary\n",
        "\n",
        "class Employee:\n",
        "    def __init__(self, name, hours_worked, hourly_rate):\n",
        "        self.name = name\n",
        "        self.hours_worked = hours_worked\n",
        "        self.hourly_rate = hourly_rate\n",
        "\n",
        "    def calculate_salary(self):\n",
        "        return self.hours_worked * self.hourly_rate\n",
        "\n",
        "class Manager(Employee):\n",
        "    def __init__(self, name, hours_worked, hourly_rate, bonus):\n",
        "        super().__init__(name, hours_worked, hourly_rate)\n",
        "        self.bonus = bonus\n",
        "\n",
        "    def calculate_salary(self):\n",
        "        base_salary = super().calculate_salary()\n",
        "        return base_salary + self.bonus\n",
        "\n",
        "# Example usage\n",
        "if __name__ == \"__main__\":\n",
        "    emp = Employee(\"Anil\", 40, 20)\n",
        "    mgr = Manager(\"Sunil\", 40, 30, 500)\n",
        "\n",
        "    print(f\"{emp.name}'s salary: ${emp.calculate_salary()}\")\n",
        "    print(f\"{mgr.name}'s salary: ${mgr.calculate_salary()}\")\n"
      ],
      "metadata": {
        "colab": {
          "base_uri": "https://localhost:8080/"
        },
        "id": "QYxyKIlK9iVL",
        "outputId": "a1993fae-c477-4abe-c1bf-0a972c8819c0"
      },
      "execution_count": 23,
      "outputs": [
        {
          "output_type": "stream",
          "name": "stdout",
          "text": [
            "Anil's salary: $800\n",
            "Sunil's salary: $1700\n"
          ]
        }
      ]
    },
    {
      "cell_type": "code",
      "source": [
        "# 15.  Create a class Product with attributes name, price, and quantity. Implement a method total_price() that calculates the total price of the product.\n",
        "\n",
        "class Product:\n",
        "    def __init__(self, name, price, quantity):\n",
        "        self.name = name\n",
        "        self.price = price\n",
        "        self.quantity = quantity\n",
        "\n",
        "    def total_price(self):\n",
        "        return self.price * self.quantity\n",
        "\n",
        "# Example usage\n",
        "if __name__ == \"__main__\":\n",
        "    product = Product(\"Laptop\", 1000, 3)\n",
        "    print(f\"Total price for {product.quantity} {product.name}s: ${product.total_price()}\")"
      ],
      "metadata": {
        "colab": {
          "base_uri": "https://localhost:8080/"
        },
        "id": "66TgcdWn9ynW",
        "outputId": "8e86357d-336b-49b3-ea2e-31f5d4ac9067"
      },
      "execution_count": 24,
      "outputs": [
        {
          "output_type": "stream",
          "name": "stdout",
          "text": [
            "Total price for 3 Laptops: $3000\n"
          ]
        }
      ]
    },
    {
      "cell_type": "code",
      "source": [
        "# 16.  Create a class Animal with an abstract method sound(). Create two derived classes Cow and Sheep that implement the sound() method.\n",
        "\n",
        "from abc import ABC, abstractmethod\n",
        "\n",
        "# Abstract base class\n",
        "class Animal(ABC):\n",
        "    @abstractmethod\n",
        "    def sound(self):\n",
        "        pass\n",
        "\n",
        "# Derived class Cow\n",
        "class Cow(Animal):\n",
        "    def sound(self):\n",
        "        print(\"Cow says: Moo\")\n",
        "\n",
        "# Derived class Sheep\n",
        "class Sheep(Animal):\n",
        "    def sound(self):\n",
        "        print(\"Sheep says: Baa\")\n",
        "\n",
        "# Example usage\n",
        "if __name__ == \"__main__\":\n",
        "    cow = Cow()\n",
        "    sheep = Sheep()\n",
        "\n",
        "    cow.sound()\n",
        "    sheep.sound()\n"
      ],
      "metadata": {
        "colab": {
          "base_uri": "https://localhost:8080/"
        },
        "id": "ozcOoHpl-Tm5",
        "outputId": "2a6fb3c5-affe-4e9d-cc6a-e1f467c3e377"
      },
      "execution_count": 25,
      "outputs": [
        {
          "output_type": "stream",
          "name": "stdout",
          "text": [
            "Cow says: Moo\n",
            "Sheep says: Baa\n"
          ]
        }
      ]
    },
    {
      "cell_type": "code",
      "source": [
        "# 17. Create a class Book with attributes title, author, and year_published. Add a method get_book_info() that returns a formatted string with the book's details.\n",
        "\n",
        "class Book:\n",
        "    def __init__(self, title, author, year_published):\n",
        "        self.title = title\n",
        "        self.author = author\n",
        "        self.year_published = year_published\n",
        "\n",
        "    def get_book_info(self):\n",
        "        return f\"'{self.title}' by {self.author}, published in {self.year_published}\"\n",
        "\n",
        "# Example usage\n",
        "if __name__ == \"__main__\":\n",
        "    book = Book(\"To Kill a Mockingbird\", \"Harper Lee\", 1960)\n",
        "    print(book.get_book_info())\n"
      ],
      "metadata": {
        "colab": {
          "base_uri": "https://localhost:8080/"
        },
        "id": "43xBj9hW_Ilu",
        "outputId": "0601e429-5a33-42b7-9d45-0f5d8e83447e"
      },
      "execution_count": 26,
      "outputs": [
        {
          "output_type": "stream",
          "name": "stdout",
          "text": [
            "'To Kill a Mockingbird' by Harper Lee, published in 1960\n"
          ]
        }
      ]
    },
    {
      "cell_type": "code",
      "source": [
        "# 18.  Create a class House with attributes address and price. Create a derived class Mansion that adds an attribute number_of_rooms.\n",
        "\n",
        "class House:\n",
        "    def __init__(self, address, price):\n",
        "        self.address = address\n",
        "        self.price = price\n",
        "\n",
        "    def display_info(self):\n",
        "        print(f\"Address: {self.address}\")\n",
        "        print(f\"Price: ${self.price}\")\n",
        "\n",
        "class Mansion(House):\n",
        "    def __init__(self, address, price, number_of_rooms):\n",
        "        super().__init__(address, price)\n",
        "        self.number_of_rooms = number_of_rooms\n",
        "\n",
        "    def display_info(self):\n",
        "        super().display_info()\n",
        "        print(f\"Number of rooms: {self.number_of_rooms}\")\n",
        "\n",
        "# Example usage\n",
        "if __name__ == \"__main__\":\n",
        "    house = House(\"123 Maple St\", 250000)\n",
        "    mansion = Mansion(\"789 Oak Ave\", 1200000, 10)\n",
        "\n",
        "    print(\"House info:\")\n",
        "    house.display_info()\n",
        "\n",
        "    print(\"\\nMansion info:\")\n",
        "    mansion.display_info()"
      ],
      "metadata": {
        "colab": {
          "base_uri": "https://localhost:8080/"
        },
        "id": "7V1ntbE3ATLm",
        "outputId": "86455abc-f9c3-4638-9af4-352c472c18f7"
      },
      "execution_count": 27,
      "outputs": [
        {
          "output_type": "stream",
          "name": "stdout",
          "text": [
            "House info:\n",
            "Address: 123 Maple St\n",
            "Price: $250000\n",
            "\n",
            "Mansion info:\n",
            "Address: 789 Oak Ave\n",
            "Price: $1200000\n",
            "Number of rooms: 10\n"
          ]
        }
      ]
    }
  ]
}